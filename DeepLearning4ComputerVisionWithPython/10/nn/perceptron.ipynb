{
 "cells": [
  {
   "cell_type": "code",
   "execution_count": 5,
   "metadata": {},
   "outputs": [],
   "source": [
    "import numpy as np\n",
    "\n",
    "class Perceptron:\n",
    "    def __init__(self, N, alpha=0.1):\n",
    "        self.W = np.random.randn(N+1) / np.sqrt(N)\n",
    "        self.alpha = alpha"
   ]
  },
  {
   "cell_type": "code",
   "execution_count": 6,
   "metadata": {},
   "outputs": [],
   "source": [
    "    def step(self, x):\n",
    "        return 1 if x > 0 else 0"
   ]
  },
  {
   "cell_type": "code",
   "execution_count": 7,
   "metadata": {},
   "outputs": [],
   "source": [
    "    def fit(self, X, y, epochs=10):\n",
    "        X = np.c_[X, np.ones(X.shape[0])]\n",
    "\n",
    "        for epoch in np.arange(0, epochs):\n",
    "            for (x, target) in zip(X, y):\n",
    "                p = self.step(np.dot(x, self.W))\n",
    "\n",
    "                if p != target:\n",
    "                    error = p - target\n",
    "                    self.W += -self.alpha * error * x"
   ]
  },
  {
   "cell_type": "code",
   "execution_count": 8,
   "metadata": {},
   "outputs": [],
   "source": [
    "    def predict(self, X, addBias=True):\n",
    "        X = np.atleast_2d(X)\n",
    "\n",
    "        if addBias: \n",
    "            X = np.c_[X, np.ones(X.shape[0])]\n",
    "\n",
    "        return self.step(np.dot(X, self.W))"
   ]
  },
  {
   "cell_type": "code",
   "execution_count": null,
   "metadata": {},
   "outputs": [],
   "source": []
  }
 ],
 "metadata": {
  "kernelspec": {
   "display_name": "Python 3",
   "language": "python",
   "name": "python3"
  },
  "language_info": {
   "codemirror_mode": {
    "name": "ipython",
    "version": 3
   },
   "file_extension": ".py",
   "mimetype": "text/x-python",
   "name": "python",
   "nbconvert_exporter": "python",
   "pygments_lexer": "ipython3",
   "version": "3.6.6"
  }
 },
 "nbformat": 4,
 "nbformat_minor": 2
}
