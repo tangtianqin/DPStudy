{
 "cells": [
  {
   "cell_type": "code",
   "execution_count": 2,
   "metadata": {},
   "outputs": [],
   "source": [
    "from sklearn.neighbors import KNeighborsClassifier\n",
    "from sklearn.preprocessing import LabelEncoder\n",
    "from sklearn.model_selection import train_test_split\n",
    "from sklearn.metrics import classification_report\n",
    "\n",
    "from imutils import paths\n",
    "from preprocessing.SimplePreprocessor import SimplePreprocessor\n",
    "from datasets.SimpleDatasetLoader import SimpleDatasetLoader"
   ]
  },
  {
   "cell_type": "code",
   "execution_count": 37,
   "metadata": {},
   "outputs": [
    {
     "name": "stdout",
     "output_type": "stream",
     "text": [
      "[INFO] processed 500/10000\n",
      "[INFO] processed 1000/10000\n",
      "[INFO] processed 1500/10000\n",
      "[INFO] processed 2000/10000\n",
      "[INFO] processed 2500/10000\n",
      "[INFO] processed 3000/10000\n",
      "[INFO] processed 3500/10000\n",
      "[INFO] processed 4000/10000\n",
      "[INFO] processed 4500/10000\n",
      "[INFO] processed 5000/10000\n",
      "[INFO] processed 5500/10000\n",
      "[INFO] processed 6000/10000\n",
      "[INFO] processed 6500/10000\n",
      "[INFO] processed 7000/10000\n",
      "[INFO] processed 7500/10000\n",
      "[INFO] processed 8000/10000\n",
      "[INFO] processed 8500/10000\n",
      "[INFO] processed 9000/10000\n",
      "[INFO] processed 9500/10000\n",
      "[INFO] processed 10000/10000\n"
     ]
    }
   ],
   "source": [
    "imagePaths = list(paths.list_images(\"./catsdogs\"))\n",
    "\n",
    "sp = SimplePreprocessor(32, 32)\n",
    "sdl = SimpleDatasetLoader(preprocessors=[sp])\n",
    "(data, labels) = sdl.load(imagePaths, verbose=500)\n",
    "data = data.reshape((data.shape[0], 3072))"
   ]
  },
  {
   "cell_type": "code",
   "execution_count": 38,
   "metadata": {},
   "outputs": [],
   "source": [
    "le = LabelEncoder()\n",
    "labels = le.fit_transform(labels)\n",
    "\n",
    "# partition the data into training and testing splits using 75% of the data for training and the remaining 25% for testing\n",
    "(trainX, testX, trainY, testY) = train_test_split(data, labels, test_size=0.25, random_state=42)"
   ]
  },
  {
   "cell_type": "code",
   "execution_count": 40,
   "metadata": {},
   "outputs": [
    {
     "name": "stdout",
     "output_type": "stream",
     "text": [
      "[INFO] evaluating k-NN classifier...\n",
      "             precision    recall  f1-score   support\n",
      "\n",
      "       cats       0.55      0.62      0.58      1272\n",
      "       dogs       0.55      0.48      0.51      1228\n",
      "\n",
      "avg / total       0.55      0.55      0.55      2500\n",
      "\n"
     ]
    }
   ],
   "source": [
    "# train and evaluate a k-NN classifier on the raw pixel intensities\n",
    "print(\"[INFO] evaluating k-NN classifier...\")\n",
    "model = KNeighborsClassifier(n_neighbors=1, n_jobs=-1)\n",
    "model.fit(trainX, trainY)\n",
    "print(classification_report(testY, model.predict(testX), target_names=le.classes_))"
   ]
  },
  {
   "cell_type": "code",
   "execution_count": 36,
   "metadata": {},
   "outputs": [
    {
     "data": {
      "text/plain": [
       "(7500, 32, 32, 3)"
      ]
     },
     "execution_count": 36,
     "metadata": {},
     "output_type": "execute_result"
    }
   ],
   "source": [
    "trainX.shape"
   ]
  },
  {
   "cell_type": "code",
   "execution_count": null,
   "metadata": {},
   "outputs": [],
   "source": []
  }
 ],
 "metadata": {
  "kernelspec": {
   "display_name": "Python 3",
   "language": "python",
   "name": "python3"
  },
  "language_info": {
   "codemirror_mode": {
    "name": "ipython",
    "version": 3
   },
   "file_extension": ".py",
   "mimetype": "text/x-python",
   "name": "python",
   "nbconvert_exporter": "python",
   "pygments_lexer": "ipython3",
   "version": "3.6.5"
  }
 },
 "nbformat": 4,
 "nbformat_minor": 2
}
