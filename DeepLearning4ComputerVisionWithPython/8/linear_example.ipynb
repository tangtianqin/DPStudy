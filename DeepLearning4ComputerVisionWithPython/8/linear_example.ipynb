{
 "cells": [
  {
   "cell_type": "code",
   "execution_count": 31,
   "metadata": {},
   "outputs": [],
   "source": [
    "import numpy as np\n",
    "import cv2\n",
    "import math\n",
    "\n",
    "labels = [\"dog\", \"cat\"]\n",
    "np.random.seed(1)\n",
    "\n",
    "W = np.random.randn(3, 3072)\n",
    "b = np.random.randn(3)\n",
    "\n",
    "orig = cv2.imread(\"beagle.jpg\")\n",
    "image = cv2.resize(orig, (32, 32)).flatten()\n",
    "\n",
    "scores = W.dot(image) + b"
   ]
  },
  {
   "cell_type": "code",
   "execution_count": 32,
   "metadata": {},
   "outputs": [
    {
     "name": "stdout",
     "output_type": "stream",
     "text": [
      "[INFO] dog: 9201.00\n",
      "[INFO] cat: -1946.00\n"
     ]
    }
   ],
   "source": [
    "for (label, score) in zip(labels, scores):\n",
    "    print(\"[INFO] {}: {:.2f}\".format(label, score))\n",
    "    \n",
    "cv2.putText(orig, \"Label: {}\".format(labels[np.argmax(scores)]), (10, 30), cv2.FONT_HERSHEY_SIMPLEX, 0.9, (0, 255, 0), 2)\n",
    "\n",
    "cv2.imshow(\"Image\", orig)\n",
    "#cv2.waitKey(0)"
   ]
  },
  {
   "cell_type": "code",
   "execution_count": 33,
   "metadata": {},
   "outputs": [
    {
     "data": {
      "text/plain": [
       "[7.412571387817994, 2.812571387817995, 0.06257138781799504]"
      ]
     },
     "execution_count": 33,
     "metadata": {},
     "output_type": "execute_result"
    }
   ],
   "source": [
    "a = [-3.44, 1.16, 3.91]\n",
    "b = [math.e**item for item in a]\n",
    "s = sum(b)\n",
    "c = [item / s for item in b]\n",
    "d = [-math.log(item) for item in c]\n",
    "d"
   ]
  },
  {
   "cell_type": "code",
   "execution_count": null,
   "metadata": {},
   "outputs": [],
   "source": []
  }
 ],
 "metadata": {
  "kernelspec": {
   "display_name": "Python 3",
   "language": "python",
   "name": "python3"
  },
  "language_info": {
   "codemirror_mode": {
    "name": "ipython",
    "version": 3
   },
   "file_extension": ".py",
   "mimetype": "text/x-python",
   "name": "python",
   "nbconvert_exporter": "python",
   "pygments_lexer": "ipython3",
   "version": "3.6.5"
  }
 },
 "nbformat": 4,
 "nbformat_minor": 2
}
