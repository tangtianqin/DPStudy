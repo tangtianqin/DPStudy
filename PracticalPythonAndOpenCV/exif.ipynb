{
 "cells": [
  {
   "cell_type": "code",
   "execution_count": 4,
   "metadata": {},
   "outputs": [
    {
     "name": "stdout",
     "output_type": "stream",
     "text": [
      "AC8AC781-235D-44BE-8368-688B6228C758-354-000000054E31D012; AC8AC781-235D-44BE-8368-688B6228C758-354-000000054E31D012\n"
     ]
    }
   ],
   "source": [
    "import pyexiv2\n",
    "\n",
    "def getUserComment(imagePath):\n",
    "    metadata = pyexiv2.ImageMetadata('IMG_0104.jpg')\n",
    "    metadata.read()\n",
    "    metadata.exif_keys\n",
    "\n",
    "    tag = metadata['Exif.Photo.UserComment']\n",
    "    return tag.value\n",
    "\n",
    "c1 = getUserComment('IMG_0104.jpg')\n",
    "c2 = getUserComment('AC8AC781-235D-44BE-8368-688B6228C758-354-000000054E31D012.jpg')\n",
    "print(c1 + '; ' + c2)\n"
   ]
  },
  {
   "cell_type": "code",
   "execution_count": 9,
   "metadata": {},
   "outputs": [
    {
     "name": "stdout",
     "output_type": "stream",
     "text": [
      "{'GPSInfo': {0: b'\\x02\\x02\\x00\\x00', 1: 'N', 2: ((35, 1), (51, 1), (299, 100)), 3: 'E', 4: ((139, 1), (52, 1), (306, 100)), 5: b'\\x00', 6: (0, 1)}, 'ResolutionUnit': 2, 'ExifOffset': 210, 'Make': 'Apple', 'Model': 'iPhone XS Max', 'Software': '12.1.2', 'Orientation': 6, 'DateTime': '2018:12:29 14:48:07', 'YCbCrPositioning': 1, 'XResolution': (72, 1), 'YResolution': (72, 1), 'ExifVersion': b'0221', 'ComponentsConfiguration': b'\\x01\\x02\\x03\\x00', 'ShutterSpeedValue': (130357, 23763), 'DateTimeOriginal': '2018:12:29 14:48:07', 'DateTimeDigitized': '2018:12:29 14:48:07', 'ApertureValue': (54823, 32325), 'BrightnessValue': (71488, 23167), 'ExposureBiasValue': (0, 1), 'MeteringMode': 5, 'Flash': 16, 'FocalLength': (17, 4), 'UserComment': b'ASCII\\x00\\x00\\x00AC8AC781-235D-44BE-8368-688B6228C758-354-000000054E31D012', 'ColorSpace': 1, 'ExifImageWidth': 960, 'FocalLengthIn35mmFilm': 119, 'SceneCaptureType': 0, 'ExifImageHeight': 540, 'SubsecTimeOriginal': '171', 'SubsecTimeDigitized': '171', 'SubjectLocation': (480, 269, 528, 237), 'SensingMethod': 2, 'ExposureTime': (1, 45), 'FNumber': (9, 5), 'SceneType': b'\\x01', 'ImageUniqueID': 'e47091acf24796950000000000000000', 'ExposureProgram': 2, 'ISOSpeedRatings': 80, 'ExposureMode': 0, 'FlashPixVersion': b'0100', 'WhiteBalance': 0, 'LensSpecification': ((17, 4), (17, 4), (9, 5), (9, 5)), 'LensMake': 'Apple', 'LensModel': 'iPhone XS Max back camera 4.25mm f/1.8'}\n"
     ]
    }
   ],
   "source": [
    "import os\n",
    "from PIL import Image\n",
    "from PIL.ExifTags import TAGS\n",
    "\n",
    "\n",
    "# read exif\n",
    "with Image.open(\"IMG_0104.jpg\") as f:\n",
    "    exif_ = f._getexif()\n",
    "# convert to readable dict\n",
    "info_ = {}\n",
    "for key_ in exif_.keys():\n",
    "    tag_ = TAGS.get(key_, key_)\n",
    "    if tag_ in [\"MakerNote\"]:\n",
    "        continue\n",
    "    info_[tag_] = exif_[key_]\n",
    "\n",
    "print(info_)\n",
    "\n",
    "def _format_bytes(obj_):\n",
    "    res = {}\n",
    "    for key_, value_ in obj_.items():\n",
    "        if isinstance(value_, bytes):\n",
    "            res[key_] = \"{}\".format(value_)\n",
    "        elif isinstance(value_, dict):\n",
    "            res[key_] = _format_bytes(value_)\n",
    "        else:\n",
    "            res[key_] = value_\n",
    "    return res"
   ]
  },
  {
   "cell_type": "code",
   "execution_count": null,
   "metadata": {},
   "outputs": [],
   "source": []
  }
 ],
 "metadata": {
  "kernelspec": {
   "display_name": "Python 3",
   "language": "python",
   "name": "python3"
  },
  "language_info": {
   "codemirror_mode": {
    "name": "ipython",
    "version": 3
   },
   "file_extension": ".py",
   "mimetype": "text/x-python",
   "name": "python",
   "nbconvert_exporter": "python",
   "pygments_lexer": "ipython3",
   "version": "3.6.7"
  }
 },
 "nbformat": 4,
 "nbformat_minor": 2
}
